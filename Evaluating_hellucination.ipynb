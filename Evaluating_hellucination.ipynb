{
 "cells": [
  {
   "cell_type": "code",
   "execution_count": 3,
   "metadata": {},
   "outputs": [],
   "source": [
    "import pandas as pd \n",
    "from langchain.chat_models import ChatOpenAI\n",
    "from langchain.chat_models import AzureChatOpenAI\n",
    "from langchain.embeddings import OpenAIEmbeddings\n",
    "from langchain.chains import create_extraction_chain\n",
    "import os\n",
    "from langchain.prompts import PromptTemplate\n",
    "from langchain.prompts import ChatPromptTemplate\n",
    "from langchain.chains import LLMChain\n",
    "import openai\n",
    "from langchain.document_loaders import CSVLoader\n",
    "from langchain.chains import SequentialChain"
   ]
  },
  {
   "cell_type": "code",
   "execution_count": 4,
   "metadata": {},
   "outputs": [],
   "source": [
    "os.environ[\"OPENAI_API_TYPE\"]       = \"\"\n",
    "os.environ[\"OPENAI_API_BASE\"]       = \"\"\n",
    "os.environ[\"OPENAI_API_KEY\"]        = \"\"\n",
    "os.environ[\"OPENAI_API_VERSION\"]    = \"\"\n",
    "\n",
    "openai.api_type     = os.environ[\"OPENAI_API_TYPE\"]\n",
    "openai.api_base     = os.environ[\"OPENAI_API_BASE\"]\n",
    "openai.api_key      = os.environ[\"OPENAI_API_KEY\"] \n",
    "openai.api_version  = os.environ[\"OPENAI_API_VERSION\"]"
   ]
  },
  {
   "cell_type": "code",
   "execution_count": 5,
   "metadata": {},
   "outputs": [],
   "source": [
    "human_template  = \"{question}\""
   ]
  },
  {
   "cell_type": "code",
   "execution_count": 50,
   "metadata": {},
   "outputs": [],
   "source": [
    "quiz_bank = \"\"\"Article 1: Narendra Modi\n",
    "Narendra Modi is the current Prime Minister of India, serving since May 2014. He is a member of the Bharatiya Janata Party (BJP) and the Rashtriya Swayamsevak Sangh (RSS), a Hindu nationalist volunteer organization. Modi's leadership has been marked by economic reforms, including the implementation of the Goods and Services Tax (GST) and the demonetization of high-value currency notes. He has also focused on improving India's infrastructure and promoting digitalization. Modi's policies have been praised for their focus on development, but he has also faced criticism for his handling of religious and social issues.\n",
    "\n",
    "Article 2: Joe Biden\n",
    "Joe Biden is the 46th President of the United States, having assumed office in January 2021. He previously served as Vice President under Barack Obama from 2009 to 2017. Biden has been a prominent figure in American politics for decades, serving as a Senator from Delaware from 1973 to 2009. His presidency has been marked by efforts to tackle the COVID-19 pandemic, revitalize the economy, address climate change, and promote racial equity. Biden's administration has also focused on restoring diplomatic relations with allies and rejoining international agreements.\n",
    "\n",
    "Article 3: Vladimir Putin\n",
    "Vladimir Putin has been a dominant figure in Russian politics for over two decades. He served as President of Russia from 2000 to 2008, Prime Minister from 2008 to 2012, and President again since 2012. Putin's leadership has been characterized by a strong stance on national security and foreign policy, including military interventions in Ukraine and Syria. He has also been criticized for his crackdown on political dissent and human rights abuses. Putin remains a polarizing figure, admired by some for his strong leadership and criticized by others for his authoritarian tendencies.\n",
    "\n",
    "\"\"\""
   ]
  },
  {
   "cell_type": "code",
   "execution_count": 121,
   "metadata": {},
   "outputs": [],
   "source": [
    "delimiter = \"####\"\n",
    "\n",
    "prompt_template = f\"\"\"\n",
    "Analyze this 3 articles, answer questions in one line.Take help from this {quiz_bank}\n",
    "\n",
    "\"\"\""
   ]
  },
  {
   "cell_type": "code",
   "execution_count": 122,
   "metadata": {},
   "outputs": [],
   "source": [
    "from langchain.prompts import ChatPromptTemplate\n",
    "chat_prompt = ChatPromptTemplate.from_messages([(\"human\", prompt_template)])"
   ]
  },
  {
   "cell_type": "code",
   "execution_count": 123,
   "metadata": {},
   "outputs": [],
   "source": [
    "llm = AzureChatOpenAI(deployment_name='tnhgpt3' , verbose=False , temperature=0)"
   ]
  },
  {
   "cell_type": "code",
   "execution_count": 124,
   "metadata": {},
   "outputs": [
    {
     "data": {
      "text/plain": [
       "StrOutputParser()"
      ]
     },
     "execution_count": 124,
     "metadata": {},
     "output_type": "execute_result"
    }
   ],
   "source": [
    "# parser\n",
    "from langchain.schema.output_parser import StrOutputParser\n",
    "output_parser = StrOutputParser()\n",
    "output_parser"
   ]
  },
  {
   "cell_type": "code",
   "execution_count": 125,
   "metadata": {},
   "outputs": [],
   "source": [
    "chain = chat_prompt | llm | output_parser\n"
   ]
  },
  {
   "cell_type": "code",
   "execution_count": 126,
   "metadata": {},
   "outputs": [],
   "source": [
    "# taking all components and making reusable as one piece\n",
    "def assistant_chain(\n",
    "    system_message,\n",
    "    human_template=\"{question}\",\n",
    "    llm=llm,\n",
    "    output_parser=StrOutputParser()):\n",
    "  \n",
    "  chat_prompt = ChatPromptTemplate.from_messages([\n",
    "      (\"system\", system_message),\n",
    "      (\"human\", human_template),\n",
    "  ])\n",
    "  return chat_prompt | llm | output_parser"
   ]
  },
  {
   "cell_type": "code",
   "execution_count": 127,
   "metadata": {},
   "outputs": [],
   "source": [
    "def eval_expected_words(\n",
    "    system_message,\n",
    "    question,\n",
    "    expected_words,\n",
    "    human_template=\"{question}\",\n",
    "    llm=llm,\n",
    "    output_parser=StrOutputParser()):\n",
    "    \n",
    "  assistant = assistant_chain(\n",
    "      system_message,\n",
    "      human_template,\n",
    "      llm,\n",
    "      output_parser)\n",
    "    \n",
    "  \n",
    "  answer = assistant.invoke({\"question\": question})\n",
    "    \n",
    "  print(answer)\n",
    "    \n",
    "  assert any(word in answer.lower() \\\n",
    "             for word in expected_words), \\\n",
    "    f\"Expected the assistant questions to include \\\n",
    "    '{expected_words}', but it did not\""
   ]
  },
  {
   "cell_type": "code",
   "execution_count": 160,
   "metadata": {},
   "outputs": [],
   "source": [
    "############## Test1 \n",
    "\n",
    "question  = \"what was putins foreign policy towards india\"\n",
    "\n",
    "expected_words = [\"President\",\"Russia\", \"Prime Minister\", \"national security\",\n",
    " \"foreign policy\", \"Ukraine\", \"Syria\", \"political dissent\", \"human rights abuses\", \"authoritarian\"]\n",
    " \n",
    "expected_words = [fruit.lower() for fruit in expected_words]"
   ]
  },
  {
   "cell_type": "code",
   "execution_count": 161,
   "metadata": {},
   "outputs": [
    {
     "name": "stdout",
     "output_type": "stream",
     "text": [
      "The provided articles do not mention Vladimir Putin's specific foreign policy towards India.\n"
     ]
    }
   ],
   "source": [
    "eval_expected_words(\n",
    "    prompt_template,\n",
    "    question,\n",
    "    expected_words\n",
    ")"
   ]
  },
  {
   "cell_type": "code",
   "execution_count": 162,
   "metadata": {},
   "outputs": [],
   "source": [
    "############### Test 2 \n",
    "\n",
    "question  = \"what was putins foreign policy towards india\"\n",
    "\n",
    "expected_words = [\"President\", \"United States\", \"Vice President\", \"Barack Obama\", \"Senator\", \"Delaware\", \n",
    "\"COVID-19 pandemic\", \"economy\", \"climate change\", \"racial equity\", \"diplomacy\"]\n",
    " \n",
    "expected_words = [fruit.lower() for fruit in expected_words]"
   ]
  },
  {
   "cell_type": "code",
   "execution_count": 163,
   "metadata": {},
   "outputs": [
    {
     "name": "stdout",
     "output_type": "stream",
     "text": [
      "The provided articles do not mention Vladimir Putin's specific foreign policy towards India.\n"
     ]
    },
    {
     "ename": "AssertionError",
     "evalue": "Expected the assistant questions to include     '['president', 'united states', 'vice president', 'barack obama', 'senator', 'delaware', 'covid-19 pandemic', 'economy', 'climate change', 'racial equity', 'diplomacy']', but it did not",
     "output_type": "error",
     "traceback": [
      "\u001b[0;31m---------------------------------------------------------------------------\u001b[0m",
      "\u001b[0;31mAssertionError\u001b[0m                            Traceback (most recent call last)",
      "\u001b[0;32m<ipython-input-163-9c175eb954a6>\u001b[0m in \u001b[0;36m<module>\u001b[0;34m\u001b[0m\n\u001b[0;32m----> 1\u001b[0;31m eval_expected_words(\n\u001b[0m\u001b[1;32m      2\u001b[0m     \u001b[0mprompt_template\u001b[0m\u001b[0;34m,\u001b[0m\u001b[0;34m\u001b[0m\u001b[0;34m\u001b[0m\u001b[0m\n\u001b[1;32m      3\u001b[0m     \u001b[0mquestion\u001b[0m\u001b[0;34m,\u001b[0m\u001b[0;34m\u001b[0m\u001b[0;34m\u001b[0m\u001b[0m\n\u001b[1;32m      4\u001b[0m     \u001b[0mexpected_words\u001b[0m\u001b[0;34m\u001b[0m\u001b[0;34m\u001b[0m\u001b[0m\n\u001b[1;32m      5\u001b[0m )\n",
      "\u001b[0;32m<ipython-input-127-34bebcd1e983>\u001b[0m in \u001b[0;36meval_expected_words\u001b[0;34m(system_message, question, expected_words, human_template, llm, output_parser)\u001b[0m\n\u001b[1;32m     18\u001b[0m   \u001b[0mprint\u001b[0m\u001b[0;34m(\u001b[0m\u001b[0manswer\u001b[0m\u001b[0;34m)\u001b[0m\u001b[0;34m\u001b[0m\u001b[0;34m\u001b[0m\u001b[0m\n\u001b[1;32m     19\u001b[0m \u001b[0;34m\u001b[0m\u001b[0m\n\u001b[0;32m---> 20\u001b[0;31m   assert any(word in answer.lower() \\\n\u001b[0m\u001b[1;32m     21\u001b[0m              for word in expected_words), \\\n\u001b[1;32m     22\u001b[0m     \u001b[0mf\u001b[0m\u001b[0;31m\"\u001b[0m\u001b[0mExpected\u001b[0m \u001b[0mthe\u001b[0m \u001b[0massistant\u001b[0m \u001b[0mquestions\u001b[0m \u001b[0mto\u001b[0m \u001b[0minclude\u001b[0m\u001b[0;31m \u001b[0m\u001b[0;31m\\\u001b[0m\u001b[0;34m\u001b[0m\u001b[0;34m\u001b[0m\u001b[0m\n",
      "\u001b[0;31mAssertionError\u001b[0m: Expected the assistant questions to include     '['president', 'united states', 'vice president', 'barack obama', 'senator', 'delaware', 'covid-19 pandemic', 'economy', 'climate change', 'racial equity', 'diplomacy']', but it did not"
     ]
    }
   ],
   "source": [
    "eval_expected_words(\n",
    "    prompt_template,\n",
    "    question,\n",
    "    expected_words\n",
    ")"
   ]
  },
  {
   "cell_type": "code",
   "execution_count": null,
   "metadata": {},
   "outputs": [],
   "source": []
  }
 ],
 "metadata": {
  "kernelspec": {
   "display_name": "Python 3.9.7 ('base')",
   "language": "python",
   "name": "python3"
  },
  "language_info": {
   "codemirror_mode": {
    "name": "ipython",
    "version": 3
   },
   "file_extension": ".py",
   "mimetype": "text/x-python",
   "name": "python",
   "nbconvert_exporter": "python",
   "pygments_lexer": "ipython3",
   "version": "3.9.7"
  },
  "orig_nbformat": 4,
  "vscode": {
   "interpreter": {
    "hash": "1448b48b023bcc9c3d4a79e814720a10ca6d4244f75e0f7ce4af58f96ba2b7d3"
   }
  }
 },
 "nbformat": 4,
 "nbformat_minor": 2
}
